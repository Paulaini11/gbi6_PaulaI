{
 "cells": [
  {
   "cell_type": "markdown",
   "metadata": {},
   "source": [
    "<img src=\"https://ecogenomics.github.io/CheckM/img/checkm.png\" width=300 height=240 />\n",
    "\n",
    "# EXAMEN PARCIAL PYTHON\n",
    " \n",
    " \n",
    " ### <center><h2> INGENIERÍA EN BIOTECNOLOGÍA</h2></center>\n",
    "# <center><h1 style=\"color:red\">GBI6 - BIOINFORMÁTICA</h1></center>\n",
    "\n",
    "<img src=\"https://www.ikiam.edu.ec/img/logo-ikiam-grey.png\" width=400 height=300 />\n",
    "\n",
    "\n",
    "  \n",
    "\n",
    "**Paula Valeria Iñiguez Romero**\n",
    "\n",
    "**03-08-2022**"
   ]
  },
  {
   "cell_type": "code",
   "execution_count": 97,
   "metadata": {},
   "outputs": [
    {
     "name": "stdout",
     "output_type": "stream",
     "text": [
      "Requirement already satisfied: tabulate in c:\\programdata\\anaconda3\\lib\\site-packages (0.8.10)\n",
      "Requirement already satisfied: biopython in c:\\programdata\\anaconda3\\lib\\site-packages (1.79)\n",
      "Requirement already satisfied: numpy in c:\\programdata\\anaconda3\\lib\\site-packages (from biopython) (1.20.3)\n",
      "Requirement already satisfied: nglview in c:\\programdata\\anaconda3\\lib\\site-packages (3.0.3)\n",
      "Requirement already satisfied: ipywidgets>=7 in c:\\programdata\\anaconda3\\lib\\site-packages (from nglview) (7.6.5)\n",
      "Requirement already satisfied: jupyterlab-widgets in c:\\programdata\\anaconda3\\lib\\site-packages (from nglview) (1.0.0)\n",
      "Requirement already satisfied: numpy in c:\\programdata\\anaconda3\\lib\\site-packages (from nglview) (1.20.3)\n",
      "Requirement already satisfied: ipython>=4.0.0 in c:\\programdata\\anaconda3\\lib\\site-packages (from ipywidgets>=7->nglview) (7.29.0)\n",
      "Requirement already satisfied: ipykernel>=4.5.1 in c:\\programdata\\anaconda3\\lib\\site-packages (from ipywidgets>=7->nglview) (6.4.1)\n",
      "Requirement already satisfied: nbformat>=4.2.0 in c:\\programdata\\anaconda3\\lib\\site-packages (from ipywidgets>=7->nglview) (5.1.3)\n",
      "Requirement already satisfied: widgetsnbextension~=3.5.0 in c:\\programdata\\anaconda3\\lib\\site-packages (from ipywidgets>=7->nglview) (3.5.1)\n",
      "Requirement already satisfied: ipython-genutils~=0.2.0 in c:\\programdata\\anaconda3\\lib\\site-packages (from ipywidgets>=7->nglview) (0.2.0)\n",
      "Requirement already satisfied: traitlets>=4.3.1 in c:\\programdata\\anaconda3\\lib\\site-packages (from ipywidgets>=7->nglview) (5.1.0)\n",
      "Requirement already satisfied: matplotlib-inline<0.2.0,>=0.1.0 in c:\\programdata\\anaconda3\\lib\\site-packages (from ipykernel>=4.5.1->ipywidgets>=7->nglview) (0.1.2)\n",
      "Requirement already satisfied: jupyter-client<8.0 in c:\\programdata\\anaconda3\\lib\\site-packages (from ipykernel>=4.5.1->ipywidgets>=7->nglview) (6.1.12)\n",
      "Requirement already satisfied: tornado<7.0,>=4.2 in c:\\programdata\\anaconda3\\lib\\site-packages (from ipykernel>=4.5.1->ipywidgets>=7->nglview) (6.1)\n",
      "Requirement already satisfied: debugpy<2.0,>=1.0.0 in c:\\programdata\\anaconda3\\lib\\site-packages (from ipykernel>=4.5.1->ipywidgets>=7->nglview) (1.4.1)\n",
      "Requirement already satisfied: backcall in c:\\programdata\\anaconda3\\lib\\site-packages (from ipython>=4.0.0->ipywidgets>=7->nglview) (0.2.0)\n",
      "Requirement already satisfied: colorama in c:\\programdata\\anaconda3\\lib\\site-packages (from ipython>=4.0.0->ipywidgets>=7->nglview) (0.4.4)\n",
      "Requirement already satisfied: decorator in c:\\programdata\\anaconda3\\lib\\site-packages (from ipython>=4.0.0->ipywidgets>=7->nglview) (5.1.0)\n",
      "Requirement already satisfied: prompt-toolkit!=3.0.0,!=3.0.1,<3.1.0,>=2.0.0 in c:\\programdata\\anaconda3\\lib\\site-packages (from ipython>=4.0.0->ipywidgets>=7->nglview) (3.0.20)\n",
      "Requirement already satisfied: pygments in c:\\programdata\\anaconda3\\lib\\site-packages (from ipython>=4.0.0->ipywidgets>=7->nglview) (2.10.0)\n",
      "Requirement already satisfied: pickleshare in c:\\programdata\\anaconda3\\lib\\site-packages (from ipython>=4.0.0->ipywidgets>=7->nglview) (0.7.5)\n",
      "Requirement already satisfied: jedi>=0.16 in c:\\programdata\\anaconda3\\lib\\site-packages (from ipython>=4.0.0->ipywidgets>=7->nglview) (0.18.0)\n",
      "Requirement already satisfied: setuptools>=18.5 in c:\\programdata\\anaconda3\\lib\\site-packages (from ipython>=4.0.0->ipywidgets>=7->nglview) (58.0.4)\n",
      "Requirement already satisfied: parso<0.9.0,>=0.8.0 in c:\\programdata\\anaconda3\\lib\\site-packages (from jedi>=0.16->ipython>=4.0.0->ipywidgets>=7->nglview) (0.8.2)\n",
      "Requirement already satisfied: jupyter-core>=4.6.0 in c:\\programdata\\anaconda3\\lib\\site-packages (from jupyter-client<8.0->ipykernel>=4.5.1->ipywidgets>=7->nglview) (4.8.1)\n",
      "Requirement already satisfied: pyzmq>=13 in c:\\programdata\\anaconda3\\lib\\site-packages (from jupyter-client<8.0->ipykernel>=4.5.1->ipywidgets>=7->nglview) (22.2.1)\n",
      "Requirement already satisfied: python-dateutil>=2.1 in c:\\programdata\\anaconda3\\lib\\site-packages (from jupyter-client<8.0->ipykernel>=4.5.1->ipywidgets>=7->nglview) (2.8.2)\n",
      "Requirement already satisfied: pywin32>=1.0 in c:\\programdata\\anaconda3\\lib\\site-packages (from jupyter-core>=4.6.0->jupyter-client<8.0->ipykernel>=4.5.1->ipywidgets>=7->nglview) (228)\n",
      "Requirement already satisfied: jsonschema!=2.5.0,>=2.4 in c:\\programdata\\anaconda3\\lib\\site-packages (from nbformat>=4.2.0->ipywidgets>=7->nglview) (3.2.0)\n",
      "Requirement already satisfied: attrs>=17.4.0 in c:\\programdata\\anaconda3\\lib\\site-packages (from jsonschema!=2.5.0,>=2.4->nbformat>=4.2.0->ipywidgets>=7->nglview) (21.2.0)\n",
      "Requirement already satisfied: six>=1.11.0 in c:\\programdata\\anaconda3\\lib\\site-packages (from jsonschema!=2.5.0,>=2.4->nbformat>=4.2.0->ipywidgets>=7->nglview) (1.16.0)\n",
      "Requirement already satisfied: pyrsistent>=0.14.0 in c:\\programdata\\anaconda3\\lib\\site-packages (from jsonschema!=2.5.0,>=2.4->nbformat>=4.2.0->ipywidgets>=7->nglview) (0.18.0)\n",
      "Requirement already satisfied: wcwidth in c:\\programdata\\anaconda3\\lib\\site-packages (from prompt-toolkit!=3.0.0,!=3.0.1,<3.1.0,>=2.0.0->ipython>=4.0.0->ipywidgets>=7->nglview) (0.2.5)\n",
      "Requirement already satisfied: notebook>=4.4.1 in c:\\programdata\\anaconda3\\lib\\site-packages (from widgetsnbextension~=3.5.0->ipywidgets>=7->nglview) (6.4.5)\n",
      "Requirement already satisfied: jinja2 in c:\\programdata\\anaconda3\\lib\\site-packages (from notebook>=4.4.1->widgetsnbextension~=3.5.0->ipywidgets>=7->nglview) (2.11.3)\n",
      "Requirement already satisfied: argon2-cffi in c:\\programdata\\anaconda3\\lib\\site-packages (from notebook>=4.4.1->widgetsnbextension~=3.5.0->ipywidgets>=7->nglview) (20.1.0)\n",
      "Requirement already satisfied: Send2Trash>=1.5.0 in c:\\programdata\\anaconda3\\lib\\site-packages (from notebook>=4.4.1->widgetsnbextension~=3.5.0->ipywidgets>=7->nglview) (1.8.0)\n",
      "Requirement already satisfied: terminado>=0.8.3 in c:\\programdata\\anaconda3\\lib\\site-packages (from notebook>=4.4.1->widgetsnbextension~=3.5.0->ipywidgets>=7->nglview) (0.9.4)\n",
      "Requirement already satisfied: nbconvert in c:\\programdata\\anaconda3\\lib\\site-packages (from notebook>=4.4.1->widgetsnbextension~=3.5.0->ipywidgets>=7->nglview) (6.1.0)\n",
      "Requirement already satisfied: prometheus-client in c:\\programdata\\anaconda3\\lib\\site-packages (from notebook>=4.4.1->widgetsnbextension~=3.5.0->ipywidgets>=7->nglview) (0.11.0)\n",
      "Requirement already satisfied: pywinpty>=0.5 in c:\\programdata\\anaconda3\\lib\\site-packages (from terminado>=0.8.3->notebook>=4.4.1->widgetsnbextension~=3.5.0->ipywidgets>=7->nglview) (0.5.7)\n",
      "Requirement already satisfied: cffi>=1.0.0 in c:\\programdata\\anaconda3\\lib\\site-packages (from argon2-cffi->notebook>=4.4.1->widgetsnbextension~=3.5.0->ipywidgets>=7->nglview) (1.14.6)\n",
      "Requirement already satisfied: pycparser in c:\\programdata\\anaconda3\\lib\\site-packages (from cffi>=1.0.0->argon2-cffi->notebook>=4.4.1->widgetsnbextension~=3.5.0->ipywidgets>=7->nglview) (2.20)\n",
      "Requirement already satisfied: MarkupSafe>=0.23 in c:\\programdata\\anaconda3\\lib\\site-packages (from jinja2->notebook>=4.4.1->widgetsnbextension~=3.5.0->ipywidgets>=7->nglview) (1.1.1)\n",
      "Requirement already satisfied: defusedxml in c:\\programdata\\anaconda3\\lib\\site-packages (from nbconvert->notebook>=4.4.1->widgetsnbextension~=3.5.0->ipywidgets>=7->nglview) (0.7.1)\n",
      "Requirement already satisfied: pandocfilters>=1.4.1 in c:\\programdata\\anaconda3\\lib\\site-packages (from nbconvert->notebook>=4.4.1->widgetsnbextension~=3.5.0->ipywidgets>=7->nglview) (1.4.3)\n",
      "Requirement already satisfied: entrypoints>=0.2.2 in c:\\programdata\\anaconda3\\lib\\site-packages (from nbconvert->notebook>=4.4.1->widgetsnbextension~=3.5.0->ipywidgets>=7->nglview) (0.3)\n",
      "Requirement already satisfied: testpath in c:\\programdata\\anaconda3\\lib\\site-packages (from nbconvert->notebook>=4.4.1->widgetsnbextension~=3.5.0->ipywidgets>=7->nglview) (0.5.0)\n",
      "Requirement already satisfied: nbclient<0.6.0,>=0.5.0 in c:\\programdata\\anaconda3\\lib\\site-packages (from nbconvert->notebook>=4.4.1->widgetsnbextension~=3.5.0->ipywidgets>=7->nglview) (0.5.3)\n",
      "Requirement already satisfied: mistune<2,>=0.8.1 in c:\\programdata\\anaconda3\\lib\\site-packages (from nbconvert->notebook>=4.4.1->widgetsnbextension~=3.5.0->ipywidgets>=7->nglview) (0.8.4)\n",
      "Requirement already satisfied: jupyterlab-pygments in c:\\programdata\\anaconda3\\lib\\site-packages (from nbconvert->notebook>=4.4.1->widgetsnbextension~=3.5.0->ipywidgets>=7->nglview) (0.1.2)\n",
      "Requirement already satisfied: bleach in c:\\programdata\\anaconda3\\lib\\site-packages (from nbconvert->notebook>=4.4.1->widgetsnbextension~=3.5.0->ipywidgets>=7->nglview) (4.0.0)\n",
      "Requirement already satisfied: async-generator in c:\\programdata\\anaconda3\\lib\\site-packages (from nbclient<0.6.0,>=0.5.0->nbconvert->notebook>=4.4.1->widgetsnbextension~=3.5.0->ipywidgets>=7->nglview) (1.10)\n",
      "Requirement already satisfied: nest-asyncio in c:\\programdata\\anaconda3\\lib\\site-packages (from nbclient<0.6.0,>=0.5.0->nbconvert->notebook>=4.4.1->widgetsnbextension~=3.5.0->ipywidgets>=7->nglview) (1.5.1)\n",
      "Requirement already satisfied: webencodings in c:\\programdata\\anaconda3\\lib\\site-packages (from bleach->nbconvert->notebook>=4.4.1->widgetsnbextension~=3.5.0->ipywidgets>=7->nglview) (0.5.1)\n",
      "Requirement already satisfied: packaging in c:\\programdata\\anaconda3\\lib\\site-packages (from bleach->nbconvert->notebook>=4.4.1->widgetsnbextension~=3.5.0->ipywidgets>=7->nglview) (21.0)\n",
      "Requirement already satisfied: pyparsing>=2.0.2 in c:\\programdata\\anaconda3\\lib\\site-packages (from packaging->bleach->nbconvert->notebook>=4.4.1->widgetsnbextension~=3.5.0->ipywidgets>=7->nglview) (3.0.4)\n"
     ]
    },
    {
     "name": "stdout",
     "output_type": "stream",
     "text": [
      "Requirement already satisfied: pgeocode in c:\\programdata\\anaconda3\\lib\\site-packages (0.3.0)\n",
      "Requirement already satisfied: requests in c:\\programdata\\anaconda3\\lib\\site-packages (from pgeocode) (2.26.0)\n",
      "Requirement already satisfied: numpy in c:\\programdata\\anaconda3\\lib\\site-packages (from pgeocode) (1.20.3)\n",
      "Requirement already satisfied: pandas in c:\\programdata\\anaconda3\\lib\\site-packages (from pgeocode) (1.3.4)\n",
      "Requirement already satisfied: python-dateutil>=2.7.3 in c:\\programdata\\anaconda3\\lib\\site-packages (from pandas->pgeocode) (2.8.2)\n",
      "Requirement already satisfied: pytz>=2017.3 in c:\\programdata\\anaconda3\\lib\\site-packages (from pandas->pgeocode) (2021.3)\n",
      "Requirement already satisfied: six>=1.5 in c:\\programdata\\anaconda3\\lib\\site-packages (from python-dateutil>=2.7.3->pandas->pgeocode) (1.16.0)\n",
      "Requirement already satisfied: urllib3<1.27,>=1.21.1 in c:\\programdata\\anaconda3\\lib\\site-packages (from requests->pgeocode) (1.26.7)\n",
      "Requirement already satisfied: charset-normalizer~=2.0.0 in c:\\programdata\\anaconda3\\lib\\site-packages (from requests->pgeocode) (2.0.4)\n",
      "Requirement already satisfied: certifi>=2017.4.17 in c:\\programdata\\anaconda3\\lib\\site-packages (from requests->pgeocode) (2021.10.8)\n",
      "Requirement already satisfied: idna<4,>=2.5 in c:\\programdata\\anaconda3\\lib\\site-packages (from requests->pgeocode) (3.2)\n"
     ]
    }
   ],
   "source": [
    "!pip install tabulate\n",
    "!pip install biopython\n",
    "!pip install nglview\n",
    "!pip install pgeocode"
   ]
  },
  {
   "cell_type": "code",
   "execution_count": 98,
   "metadata": {},
   "outputs": [],
   "source": [
    "from tabulate import tabulate\n",
    "\n",
    "# Lectura y visualización\n",
    "from IPython.core.display import Image\n",
    "from Bio.Seq import Seq\n",
    "from Bio.SeqUtils import GC\n",
    "\n",
    "from Bio import SeqIO\n",
    "from Bio.SeqFeature import SeqFeature, FeatureLocation\n",
    "\n",
    "# Filogenia\n",
    "from Bio import Phylo\n",
    "from Bio.Phylo.TreeConstruction import DistanceCalculator\n",
    "from Bio.Phylo.TreeConstruction import DistanceTreeConstructor\n",
    "from Bio import AlignIO\n",
    "\n",
    "# Proteínas\n",
    "from Bio.PDB import *\n",
    "from Bio.SeqUtils.ProtParam import ProteinAnalysis\n",
    "from Bio.SeqUtils.ProtParam import ProtParamData\n",
    "import nglview as nv\n",
    "import ipywidgets\n",
    "\n",
    "import warnings\n",
    "warnings.filterwarnings('ignore')\n",
    "\n",
    "import re"
   ]
  },
  {
   "cell_type": "code",
   "execution_count": 99,
   "metadata": {},
   "outputs": [],
   "source": [
    "data=[[\"Nombre del dispositivo\",\"LAB-C-E8\"],\n",
    "[\"Nombre completo del dispositivo\",\"LAB-C-E8.ikiam.edu.ec\"],\n",
    "[\"Procesador\",\"Intel(R) Core(TM) i7-4770 CPU @ 3.40GHz   3.40 GHz\"],\n",
    "[\"RAM instalada\",\"8.00 GB\"],\n",
    "[\"Identificador de dispositivo\",\"34CA5CF2-2EA4-4E9C-A991-861F33088D3D\"],\n",
    "[\"Id. del producto\",\"00330-80000-00000-AA197\"],\n",
    "[\"Tipo de sistema\",\"Sistema operativo de 64 bits, procesador basado en x64\"]\n",
    "]"
   ]
  },
  {
   "cell_type": "code",
   "execution_count": 100,
   "metadata": {},
   "outputs": [],
   "source": [
    "col_names = [\"especificidades del dispositivo\", \"Points\"]\n"
   ]
  },
  {
   "cell_type": "code",
   "execution_count": 101,
   "metadata": {
    "scrolled": true
   },
   "outputs": [
    {
     "name": "stdout",
     "output_type": "stream",
     "text": [
      "especificidades del dispositivo    Points\n",
      "---------------------------------  ------------------------------------------------------\n",
      "Nombre del dispositivo             LAB-C-E8\n",
      "Nombre completo del dispositivo    LAB-C-E8.ikiam.edu.ec\n",
      "Procesador                         Intel(R) Core(TM) i7-4770 CPU @ 3.40GHz   3.40 GHz\n",
      "RAM instalada                      8.00 GB\n",
      "Identificador de dispositivo       34CA5CF2-2EA4-4E9C-A991-861F33088D3D\n",
      "Id. del producto                   00330-80000-00000-AA197\n",
      "Tipo de sistema                    Sistema operativo de 64 bits, procesador basado en x64\n"
     ]
    }
   ],
   "source": [
    "print(tabulate(data, headers=col_names))"
   ]
  },
  {
   "cell_type": "markdown",
   "metadata": {},
   "source": [
    "### REQUERIMIENTOS PARA EL EXAMEN\n",
    "\n",
    "Utilice de preferencia ```Jupyter``` de Anaconda, dado que tienen que hacer un control de cambios en cada pregunta. \n",
    "\n",
    "Para este examen se requiere dos documentos: \n",
    "\n",
    "1. Archivo ```miningscience.py``` donde tendrá dos funciones:\n",
    "\n",
    "2. Archivo ```2022I_GBI6_ExamenPython``` donde se llamará las funciones y se obtendrá resultados."
   ]
  },
  {
   "cell_type": "markdown",
   "metadata": {},
   "source": [
    "## Ejercicio 0 [0.5 puntos]\n",
    "Realice cambios al cuaderno de jupyter: \n",
    "- Agregue el logo de la Universidad\n",
    "- Coloque sus datos personales \n",
    "- Escriba una **tabla** con las características de su computador \n"
   ]
  },
  {
   "cell_type": "markdown",
   "metadata": {},
   "source": [
    "\n",
    "print(tabulate(data, headers=col_names))"
   ]
  },
  {
   "cell_type": "markdown",
   "metadata": {},
   "source": [
    "## Ejercicio 1 [2 puntos]\n",
    "Cree el archivo ```miningscience.py``` con las siguientes dos funciones:\n",
    "    \n",
    "i. ```download_pubmed```: para descargar la data de PubMed utilizando el **ENTREZ** de Biopython. El parámetro de entrada para la función es el ```keyword```. \n",
    "    \n",
    "ii. ```map_science```: para su data replique el ejemplo de [MapOfScience](https://github.com/CSB-book/CSB/blob/master/regex/solutions/MapOfScience_solution.ipynb), donde los puntos resaltados son al menos 5 ciudades\n",
    "iii *Cree un docstring para cada función.* \n",
    "\n",
    "Luego de crear las funciones, cargue el módulo ```miningscience``` como ```msc``` e **imprima docstring de cada función**.\n"
   ]
  },
  {
   "cell_type": "code",
   "execution_count": 108,
   "metadata": {},
   "outputs": [
    {
     "name": "stdout",
     "output_type": "stream",
     "text": [
      "Help on function download_pubmed in module miningscience:\n",
      "\n",
      "download_pubmed(keyword)\n",
      "    Función que extrae listado de artículos desde pubmed\n",
      "\n",
      "def download_pubmed(keyword): \n",
      "    \"\"\" Función que extrae listado de artículos desde pubmed \"\"\"\n",
      "    \n",
      "     \n",
      "    from Bio import Entrez\n",
      " \n",
      "    \n",
      "    Entrez.email = \"paula.iniguez@est.ikiam.edu.ec\"\n",
      "    Entr=Entrez.read(Entrez.esearch(db=\"pubmed\",\n",
      "                        term= keyword,\n",
      "                        usehistory=\"y\"))\n",
      "    \n",
      "    webenv=Entr[\"WebEnv\"]\n",
      "    query_key=Entr[\"QueryKey\"]\n",
      "    hand1=Entrez.efetch(db=\"pubmed\",\n",
      "                      rettype='medline',\n",
      "                      retmode=\"text\",\n",
      "                      retstart=0,\n",
      "                      retmax=543, webenv=webenv, query_key=query_key)\n",
      "    out_hand1 = open(keyword+\".txt\", \"w\")\n",
      "    p=hand1.read()\n",
      "    out_hand1.write(p)\n",
      "    out_hand1.close()\n",
      "    hand1.close()\n",
      "    return p\n",
      "\n",
      "Help on function map_science in module miningscience:\n",
      "\n",
      "map_science()\n",
      "\n",
      "def map_science():\n",
      "    import os\n",
      "    os.getcwd()\n",
      "\n",
      "    with open(\"Biohydrogen.txt\") as f:\n",
      "        my_text = f.read()\n",
      "    my_text= re.sub(r'\\n\\s{6}', ' ', my_text)\n",
      "\n",
      "    zipcodes = re.findall(r'[A-Z]{2}\\s(\\d{5}), USA', my_text)\n",
      "    unique_zipcodes = list(set(zipcodes))\n",
      "    unique_zipcodes.sort()\n",
      "\n",
      "\n",
      "    import pgeocode\n",
      "    zip_lat_long = pgeocode.Nominatim('US').query_postal_code(unique_zipcodes)\n",
      "    zip_lat_long = zip_lat_long.to_dict()\n",
      "\n",
      "    zip_code = zip_lat_long['postal_code'].values()\n",
      "    zip_long = zip_lat_long['longitude'].values()\n",
      "    zip_lat = zip_lat_long['latitude'].values()\n",
      "    zip_count = []\n",
      "    for i in zip_lat_long['postal_code'].values():\n",
      "        a = zipcodes.count(i)\n",
      "        zip_count.append(a)\n",
      "\n",
      "\n",
      "    import matplotlib.pyplot as plt\n",
      "    %matplotlib inline\n",
      "    plt.scatter(zip_long, zip_lat, s = zip_count, c= zip_count)\n",
      "    plt.colorbar()\n",
      "    params = plt.gcf()\n",
      "    plSize = params.get_size_inches()\n",
      "    params.set_size_inches( (plSize[0] * 3, plSize[1] * 3) )\n",
      "    plt.show()\n",
      "\n"
     ]
    }
   ],
   "source": [
    "import miningscience as msc\n",
    "import inspect \n",
    "\n",
    "help(msc.download_pubmed)\n",
    "print(inspect.getsource(msc.download_pubmed))\n",
    "\n",
    "help(msc.map_science)\n",
    "print(inspect.getsource(msc.map_science))"
   ]
  },
  {
   "cell_type": "markdown",
   "metadata": {},
   "source": [
    "\n",
    "## Ejercicio 2 [2 puntos]\n",
    "\n",
    "\n",
    "Utilice dos veces la función ```download_pubmed``` para: \n",
    "\n",
    "- Descargar la data, utilizando los keyword de su preferencia. \n",
    "- Guardar el archivo descargado en la carpeta ```data```.\n",
    "\n",
    "Para cada corrida, imprima lo siguiente: \n",
    "\n",
    "```python\n",
    "'El número artículos para KEYWORD es: XX' # Que se cargue con inserción de texto o valor que correspondea KEYWORD y XX\n",
    "```"
   ]
  },
  {
   "cell_type": "code",
   "execution_count": 103,
   "metadata": {},
   "outputs": [
    {
     "name": "stdout",
     "output_type": "stream",
     "text": [
      "El número artículos para KEYWORD es: 2142996\n",
      "El número artículos para KEYWORD es: 2580436\n"
     ]
    }
   ],
   "source": [
    "# Escriba aquí su código para el ejercicio 2\n",
    "Biohydrogen = msc.download_pubmed(\"Biohydrogen\")\n",
    "print('El número artículos para KEYWORD es:', len(Biohydrogen))\n",
    "AMP = msc.download_pubmed(\"AMP\")\n",
    "print('El número artículos para KEYWORD es:', len(AMP))"
   ]
  },
  {
   "cell_type": "markdown",
   "metadata": {},
   "source": [
    "## Ejercicio 3 [1.5 puntos]\n",
    "\n",
    "Utilice dos veces la función ```map_science``` para: \n",
    "\n",
    "- Visualizar un mapa para cada data descargada en el ejercicio 2.\n",
    "- Guardar los mapas en la carpeta ```img```"
   ]
  },
  {
   "cell_type": "code",
   "execution_count": 133,
   "metadata": {
    "scrolled": true
   },
   "outputs": [
    {
     "data": {
      "image/png": "[encoded data removed]",
      "text/plain": [
       "<Figure size 1296x864 with 2 Axes>"
      ]
     },
     "metadata": {
      "needs_background": "light"
     },
     "output_type": "display_data"
    },
    {
     "name": "stdout",
     "output_type": "stream",
     "text": [
      "dict_values(['Amherst', 'College Park', 'Blacksburg', 'Blacksburg', 'Atlanta', 'Bowling Green', 'East Lansing', 'Saint Paul', 'Rapid City', 'Evanston', 'Urbana', 'Carbondale', 'Saint Louis', 'Usaf Academy', 'Tempe', 'Pasadena', 'Riverside', 'Santa Barbara', 'Honolulu', 'Corvallis']) [1, 1, 2, 1, 1, 1, 1, 1, 28, 1, 6, 1, 1, 1, 1, 1, 1, 2, 1, 7]\n"
     ]
    }
   ],
   "source": [
    "with open(\"Biohydrogen.txt\") as f:\n",
    "    my_text = f.read()\n",
    "my_text= re.sub(r'\\n\\s{6}', ' ', my_text)\n",
    "\n",
    "zipcodes = re.findall(r'[A-Z]{2}\\s(\\d{5}), USA', my_text)\n",
    "unique_zipcodes = list(set(zipcodes))\n",
    "unique_zipcodes.sort()\n",
    "\n",
    "\n",
    "import pgeocode\n",
    "zip_lat_long = pgeocode.Nominatim('US').query_postal_code(unique_zipcodes)\n",
    "zip_lat_long = zip_lat_long.to_dict()\n",
    "\n",
    "zip_code = zip_lat_long['postal_code'].values()\n",
    "zip_long = zip_lat_long['longitude'].values()\n",
    "zip_lat = zip_lat_long['latitude'].values()\n",
    "zip_count = []\n",
    "for i in zip_lat_long['postal_code'].values():\n",
    "    a = zipcodes.count(i)\n",
    "    zip_count.append(a)\n",
    "\n",
    "\n",
    "import matplotlib.pyplot as plt\n",
    "%matplotlib inline\n",
    "plt.scatter(zip_long, zip_lat, s = zip_count, c= zip_count)\n",
    "plt.colorbar()\n",
    "\n",
    "plt.xlim(-125,-65)\n",
    "plt.ylim(23, 50)\n",
    "# add a few cities for reference (optional)\n",
    "ard = dict(arrowstyle=\"->\")\n",
    "plt.annotate('Los Angeles', xy = (-118.25, 34.05), \n",
    "               xytext = (-108.25, 34.05), arrowprops = ard)\n",
    "plt.annotate('Palo Alto', xy = (-122.1381, 37.4292), \n",
    "               xytext = (-112.1381, 37.4292), arrowprops= ard)\n",
    "plt.annotate('Cambridge', xy = (-71.1106, 42.3736), \n",
    "               xytext = (-73.1106, 48.3736), arrowprops= ard)\n",
    "plt.annotate('Chicago', xy = (-87.6847, 41.8369), \n",
    "               xytext = (-87.6847, 46.8369), arrowprops= ard)\n",
    "plt.annotate('Seattle', xy = (-122.33, 47.61), \n",
    "               xytext = (-116.33, 47.61), arrowprops= ard)\n",
    "plt.annotate('Miami', xy = (-80.21, 25.7753), \n",
    "               xytext = (-80.21, 30.7753), arrowprops= ard)\n",
    "params = plt.gcf()\n",
    "plSize = params.get_size_inches()\n",
    "params.set_size_inches( (plSize[0] * 3, plSize[1] * 3) )\n",
    "plt.show()\n",
    "print(zip_lat_long['place_name'].values(), zip_count)"
   ]
  },
  {
   "cell_type": "code",
   "execution_count": null,
   "metadata": {},
   "outputs": [],
   "source": []
  },
  {
   "cell_type": "code",
   "execution_count": 134,
   "metadata": {},
   "outputs": [
    {
     "data": {
      "image/png": "[encoded data removed]",
      "text/plain": [
       "<Figure size 1296x864 with 2 Axes>"
      ]
     },
     "metadata": {
      "needs_background": "light"
     },
     "output_type": "display_data"
    },
    {
     "name": "stdout",
     "output_type": "stream",
     "text": [
      "dict_values(['Amherst', 'Boston', 'Boston', 'Cambridge', 'Cambridge', 'New Haven', 'Newark', 'New York', 'New York', 'New York', 'New York', 'Syracuse', 'Potsdam', 'Washington', 'Washington', 'Washington', 'Laurel', 'College Park', 'Bethesda', 'Baltimore', 'Baltimore', 'Baltimore', 'Fairfax', 'Richmond', 'Blacksburg', 'Lexington', 'Charleston', 'Clemson', 'Gainesville', 'Gainesville', 'Birmingham', 'Nashville', 'Lexington', 'Cleveland', 'Kent', 'Indianapolis', 'Sault Sainte Marie', 'Houghton', 'Iowa City', 'Iowa City', 'Madison', 'Rochester', 'Urbana', 'Baton Rouge', 'Shreveport', 'Stillwater', 'Fort Worth', 'Waco', 'College Station', 'Jbsa Ft Sam Houston', 'Corpus Christi', 'Edinburg', 'Weslaco', 'Lubbock', 'Phoenix', 'Somerton', 'Tucson', 'Los Angeles', 'Irvine', 'San Luis Obispo', 'Stanford', 'Berkeley', 'Rancho Cordova', 'Sacramento', 'Corvallis', 'Eugene', 'Pullman']) [2, 4, 1, 2, 1, 1, 1, 1, 1, 1, 3, 1, 1, 1, 2, 8, 4, 3, 4, 2, 1, 3, 1, 1, 1, 1, 4, 3, 13, 11, 1, 3, 1, 3, 1, 1, 1, 1, 1, 1, 2, 3, 2, 4, 2, 6, 1, 6, 6, 3, 7, 1, 1, 1, 2, 2, 5, 2, 1, 1, 1, 1, 1, 5, 1, 1, 2]\n"
     ]
    }
   ],
   "source": [
    "with open(\"AMP.txt\") as f:\n",
    "    my_text = f.read()\n",
    "my_text= re.sub(r'\\n\\s{6}', ' ', my_text)\n",
    "\n",
    "zipcodes = re.findall(r'[A-Z]{2}\\s(\\d{5}), USA', my_text)\n",
    "unique_zipcodes = list(set(zipcodes))\n",
    "unique_zipcodes.sort()\n",
    "\n",
    "\n",
    "import pgeocode\n",
    "zip_lat_long = pgeocode.Nominatim('US').query_postal_code(unique_zipcodes)\n",
    "zip_lat_long = zip_lat_long.to_dict()\n",
    "\n",
    "zip_code = zip_lat_long['postal_code'].values()\n",
    "zip_long = zip_lat_long['longitude'].values()\n",
    "zip_lat = zip_lat_long['latitude'].values()\n",
    "zip_count = []\n",
    "for i in zip_lat_long['postal_code'].values():\n",
    "    a = zipcodes.count(i)\n",
    "    zip_count.append(a)\n",
    "\n",
    "\n",
    "import matplotlib.pyplot as plt\n",
    "%matplotlib inline\n",
    "plt.scatter(zip_long, zip_lat, s = zip_count, c= zip_count)\n",
    "plt.colorbar()\n",
    "# add a few cities for reference (optional)\n",
    "ard = dict(arrowstyle=\"->\")\n",
    "plt.annotate('Los Angeles', xy = (-118.25, 34.05), \n",
    "               xytext = (-108.25, 34.05), arrowprops = ard)\n",
    "plt.annotate('Palo Alto', xy = (-122.1381, 37.4292), \n",
    "               xytext = (-112.1381, 37.4292), arrowprops= ard)\n",
    "plt.annotate('Cambridge', xy = (-71.1106, 42.3736), \n",
    "               xytext = (-73.1106, 48.3736), arrowprops= ard)\n",
    "plt.annotate('Chicago', xy = (-87.6847, 41.8369), \n",
    "               xytext = (-87.6847, 46.8369), arrowprops= ard)\n",
    "plt.annotate('Seattle', xy = (-122.33, 47.61), \n",
    "               xytext = (-116.33, 47.61), arrowprops= ard)\n",
    "plt.annotate('Miami', xy = (-80.21, 25.7753), \n",
    "               xytext = (-80.21, 30.7753), arrowprops= ard)\n",
    "params = plt.gcf()\n",
    "plSize = params.get_size_inches()\n",
    "params.set_size_inches( (plSize[0] * 3, plSize[1] * 3) )\n",
    "plt.show()\n",
    "print(zip_lat_long['place_name'].values(), zip_count)"
   ]
  },
  {
   "cell_type": "code",
   "execution_count": 126,
   "metadata": {},
   "outputs": [
    {
     "name": "stdout",
     "output_type": "stream",
     "text": [
      "   postal_code country_code      place_name     state_name state_code  \\\n",
      "0        01003           US         Amherst  Massachusetts         MA   \n",
      "1        02115           US          Boston  Massachusetts         MA   \n",
      "2        02118           US          Boston  Massachusetts         MA   \n",
      "3        02139           US       Cambridge  Massachusetts         MA   \n",
      "4        02140           US       Cambridge  Massachusetts         MA   \n",
      "..         ...          ...             ...            ...        ...   \n",
      "62       95670           US  Rancho Cordova     California         CA   \n",
      "63       95817           US      Sacramento     California         CA   \n",
      "64       97331           US       Corvallis         Oregon         OR   \n",
      "65       97403           US          Eugene         Oregon         OR   \n",
      "66       99164           US         Pullman     Washington         WA   \n",
      "\n",
      "   county_name  county_code community_name  community_code  latitude  \\\n",
      "0    Hampshire         15.0            NaN             NaN   42.3919   \n",
      "1      Suffolk         25.0            NaN             NaN   42.3427   \n",
      "2      Suffolk         25.0            NaN             NaN   42.3362   \n",
      "3    Middlesex         17.0            NaN             NaN   42.3647   \n",
      "4    Middlesex         17.0            NaN             NaN   42.3932   \n",
      "..         ...          ...            ...             ...       ...   \n",
      "62  Sacramento         67.0            NaN             NaN   38.6072   \n",
      "63  Sacramento         67.0            NaN             NaN   38.5498   \n",
      "64      Benton          3.0            NaN             NaN   44.5638   \n",
      "65        Lane         39.0            NaN             NaN   44.0385   \n",
      "66     Whitman         75.0            NaN             NaN   46.7313   \n",
      "\n",
      "    longitude  accuracy  \n",
      "0    -72.5248       4.0  \n",
      "1    -71.0922       4.0  \n",
      "2    -71.0729       4.0  \n",
      "3    -71.1042       4.0  \n",
      "4    -71.1338       4.0  \n",
      "..        ...       ...  \n",
      "62  -121.2761       4.0  \n",
      "63  -121.4583       4.0  \n",
      "64  -123.2779       4.0  \n",
      "65  -123.0614       4.0  \n",
      "66  -117.1796       4.0  \n",
      "\n",
      "[67 rows x 12 columns]\n"
     ]
    }
   ],
   "source": [
    "zip_lat_long = pgeocode.Nominatim('US').query_postal_code(unique_zipcodes)\n",
    "print(zip_lat_long)"
   ]
  },
  {
   "cell_type": "markdown",
   "metadata": {},
   "source": [
    "## Ejercicio 4 [1 punto]\n",
    "\n",
    "**Interprete** los resultados de las figuras del **ejercicio 3**"
   ]
  },
  {
   "cell_type": "markdown",
   "metadata": {},
   "source": [
    "*Escriba la respuesta del ejercicio 5*\n"
   ]
  },
  {
   "cell_type": "markdown",
   "metadata": {},
   "source": [
    "## Ejercicio 5 [2 puntos]\n",
    "\n",
    "Para algún **gen de interés** (podría usar [Lista de genes por tipología](https://www.genome.jp/kegg/pathway.html#metabolism)), realice lo siguiente: \n",
    "\n",
    "1. Una búsqueda en la página del [NCBI nucleotide](https://www.ncbi.nlm.nih.gov/nucleotide/).\n",
    "\n",
    "2. Descargue el ```Accession List``` de su búsqueda y guarde en la carpeta ```data```.\n",
    "\n",
    "3. Cargue el ```Accession List``` en este notebook y haga una descarga de las secuencias de los **quince primeros** IDs de la accesión. \n",
    "\n",
    "4. Arme un árbol filogenético para los resultados del paso 3.\n",
    "\n",
    "5. Guarde su arbol filogénetico en la carpeta ```img```\n",
    "\n",
    "5. Interprete el árbol del paso 4. "
   ]
  },
  {
   "cell_type": "code",
   "execution_count": null,
   "metadata": {},
   "outputs": [],
   "source": [
    "# Escriba aquí su código para el ejercicio 6\n",
    "\n"
   ]
  },
  {
   "cell_type": "markdown",
   "metadata": {},
   "source": [
    "**Escriba aquí la interpretación del árbol**"
   ]
  },
  {
   "cell_type": "markdown",
   "metadata": {},
   "source": [
    "## Ejercicio 6 [1 punto]\n",
    "\n",
    "\n",
    "1. Cree en GitHub un repositorio de nombre ```GBI6_ExamenPython```. \n",
    "2. Cree un archivo ```Readme.md``` que debe tener lo siguiente: \n",
    "- Datos personales\n",
    "- Características del computador\n",
    "- Versión de Python/Anaconda y de cada uno de los módulos/paquetes y utilizados\n",
    "- Explicación de la data utilizada\n",
    "- Un diagrama de procesos del módulo ```miningscience```\n",
    "3. Asegurarse que su repositorio tiene las carpetas ```data``` e ```img``` con los archivos que ha ido guardando en las preguntas anteriores.  \n",
    "4. Realice al menos 1 control de la versión (commits) por cada ejercicio (del 1 al 5), con un mensaje que inicie como: \n",
    "\n",
    "```sh \n",
    "Carlitos Alimaña ha realizado el ejercicio 1  \n",
    "```\n",
    "```sh \n",
    "Carlitos Alimaña ha realizado el ejercicio 2\n",
    "```\n",
    "```sh \n",
    "...\n",
    "```\n"
   ]
  },
  {
   "cell_type": "code",
   "execution_count": null,
   "metadata": {},
   "outputs": [],
   "source": []
  }
 ],
 "metadata": {
  "kernelspec": {
   "display_name": "Python 3 (ipykernel)",
   "language": "python",
   "name": "python3"
  },
  "language_info": {
   "codemirror_mode": {
    "name": "ipython",
    "version": 3
   },
   "file_extension": ".py",
   "mimetype": "text/x-python",
   "name": "python",
   "nbconvert_exporter": "python",
   "pygments_lexer": "ipython3",
   "version": "3.9.12"
  },
  "latex_envs": {
   "LaTeX_envs_menu_present": true,
   "autoclose": false,
   "autocomplete": true,
   "bibliofile": "biblio.bib",
   "cite_by": "apalike",
   "current_citInitial": 1,
   "eqLabelWithNumbers": true,
   "eqNumInitial": 1,
   "hotkeys": {
    "equation": "Ctrl-E",
    "itemize": "Ctrl-I"
   },
   "labels_anchors": false,
   "latex_user_defs": false,
   "report_style_numbering": false,
   "user_envs_cfg": false
  },
  "toc": {
   "base_numbering": 1,
   "nav_menu": {},
   "number_sections": true,
   "sideBar": false,
   "skip_h1_title": false,
   "title_cell": "Table of Contents",
   "title_sidebar": "Contents",
   "toc_cell": false,
   "toc_position": {
    "height": "1152.67px",
    "left": "41px",
    "top": "110px",
    "width": "253.458px"
   },
   "toc_section_display": true,
   "toc_window_display": false
  },
  "varInspector": {
   "cols": {
    "lenName": 16,
    "lenType": 16,
    "lenVar": 40
   },
   "kernels_config": {
    "python": {
     "delete_cmd_postfix": "",
     "delete_cmd_prefix": "del ",
     "library": "var_list.py",
     "varRefreshCmd": "print(var_dic_list())"
    },
    "r": {
     "delete_cmd_postfix": ") ",
     "delete_cmd_prefix": "rm(",
     "library": "var_list.r",
     "varRefreshCmd": "cat(var_dic_list()) "
    }
   },
   "types_to_exclude": [
    "module",
    "function",
    "builtin_function_or_method",
    "instance",
    "_Feature"
   ],
   "window_display": false
  }
 },
 "nbformat": 4,
 "nbformat_minor": 4
}
